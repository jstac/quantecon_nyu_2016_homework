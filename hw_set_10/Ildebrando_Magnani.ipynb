{
 "cells": [
  {
   "cell_type": "markdown",
   "metadata": {},
   "source": [
    "## ILDEBRANDO MAGNANI\n",
    "\n",
    "Homework #10\n",
    "\n",
    "im975"
   ]
  },
  {
   "cell_type": "code",
   "execution_count": 294,
   "metadata": {
    "collapsed": true
   },
   "outputs": [],
   "source": [
    "% matplotlib inline\n",
    "import numpy as np\n",
    "import matplotlib.pyplot as plt\n",
    "import scipy.optimize as opt"
   ]
  },
  {
   "cell_type": "code",
   "execution_count": 242,
   "metadata": {
    "collapsed": false
   },
   "outputs": [],
   "source": [
    "theta = 2.5\n",
    "delta = 0.7\n",
    "rho = 0.4\n",
    "tol = 0.000001"
   ]
  },
  {
   "cell_type": "code",
   "execution_count": 243,
   "metadata": {
    "collapsed": false
   },
   "outputs": [],
   "source": [
    "def implicit_h(x, n, rho):\n",
    "    return (1 / (x + rho * n)) + (1 / (x + (n / rho))) - 2 "
   ]
  },
  {
   "cell_type": "code",
   "execution_count": 244,
   "metadata": {
    "collapsed": false
   },
   "outputs": [],
   "source": [
    "def root_finder(function, low_b, upp_b, n, rho):\n",
    "    return opt.brentq(function, low_b, upp_b, args = (n, rho))"
   ]
  },
  {
   "cell_type": "code",
   "execution_count": 245,
   "metadata": {
    "collapsed": false
   },
   "outputs": [],
   "source": [
    "def system_motion(n1, n2, delta, theta, rho):\n",
    "    s = 0.5\n",
    "    h1 = root_finder(implicit_h, 0, 1, n1, rho)\n",
    "    h2 = root_finder(implicit_h, 0, 1, n2, rho)\n",
    "    \n",
    "    if n1 <= s and n1 <= s:\n",
    "        n1_new = delta * ((theta / 2) + (1 - theta) * n1)\n",
    "        n2_new = delta * ((theta / 2) + (1 - theta) * n2)\n",
    "        return n1_new, n2_new\n",
    "    \n",
    "    elif n1 >= h2 and n2 >= h1:\n",
    "        n1_new = delta * n1\n",
    "        n2_new = delta * n2\n",
    "        return n1_new, n2_new\n",
    "        \n",
    "    elif n1 >= s and n2 <= h1:\n",
    "        n1_new = delta * n1\n",
    "        n2_new = delta * (theta * h1 + (1 - theta) * n2)\n",
    "        return n1_new, n2_new\n",
    "    \n",
    "    elif n1 <= h2 and n2 >= s:\n",
    "        n1_new = delta * (theta * h2 + (1 - theta) * n1)\n",
    "        n2_new = delta * n2\n",
    "        return n1_new, n2_new"
   ]
  },
  {
   "cell_type": "code",
   "execution_count": 267,
   "metadata": {
    "collapsed": false
   },
   "outputs": [],
   "source": [
    "def sample_generator(init_n1, init_n2, size, delta, theta, rho):\n",
    "    t_list = []\n",
    "    n1_obs = np.zeros((size))\n",
    "    n2_obs = np.zeros((size))\n",
    "    n1_obs[0] = init_n1\n",
    "    n2_obs[0] = init_n2\n",
    "    \n",
    "    for t in range(size-1):\n",
    "        n1_obs[t+1], n2_obs[t+1] = system_motion(n1_obs[t], n2_obs[t], delta, theta, rho)      \n",
    "        if t > 2:\n",
    "            if np.abs(n1_obs[t+1] - n2_obs[t+1]) < tol and np.abs(n1_obs[t] - n2_obs[t]) < tol and \\\n",
    "            np.abs(n1_obs[t-1] - n2_obs[t-1]) < tol and np.abs(n1_obs[t-2] - n2_obs[t-2]) < tol:\n",
    "                sync = 1\n",
    "                t_list.append(t-2)\n",
    "            else:\n",
    "                sync = 0\n",
    "    t_sync = min(t_list)\n",
    "    t_list = []\n",
    "    return n1_obs, n2_obs, sync, t_sync"
   ]
  },
  {
   "cell_type": "code",
   "execution_count": 306,
   "metadata": {
    "collapsed": false
   },
   "outputs": [
    {
     "name": "stdout",
     "output_type": "stream",
     "text": [
      "t_sync: 78\n"
     ]
    },
    {
     "data": {
      "image/png": "[encoded data removed]",
      "text/plain": [
       "<matplotlib.figure.Figure at 0x7faf6ef916d8>"
      ]
     },
     "metadata": {},
     "output_type": "display_data"
    }
   ],
   "source": [
    "n1_obs, n2_obs, sync, t_sync = sample_generator(0.3, 0.4, 500, delta, theta, rho)\n",
    "print(\"t_sync:\", t_sync)\n",
    "plt.plot(n1_obs, 'r', alpha=0.3)\n",
    "plt.plot(n2_obs, 'g', alpha=0.3)\n",
    "plt.show()"
   ]
  },
  {
   "cell_type": "code",
   "execution_count": null,
   "metadata": {
    "collapsed": true
   },
   "outputs": [],
   "source": []
  }
 ],
 "metadata": {
  "kernelspec": {
   "display_name": "Python 3",
   "language": "python",
   "name": "python3"
  },
  "language_info": {
   "codemirror_mode": {
    "name": "ipython",
    "version": 3
   },
   "file_extension": ".py",
   "mimetype": "text/x-python",
   "name": "python",
   "nbconvert_exporter": "python",
   "pygments_lexer": "ipython3",
   "version": "3.5.1"
  }
 },
 "nbformat": 4,
 "nbformat_minor": 0
}
