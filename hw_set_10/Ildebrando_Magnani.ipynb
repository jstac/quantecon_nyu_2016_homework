{
 "cells": [
  {
   "cell_type": "markdown",
   "metadata": {},
   "source": [
    "## ILDEBRANDO MAGNANI\n",
    "\n",
    "Homework #10\n",
    "\n",
    "im975"
   ]
  },
  {
   "cell_type": "code",
   "execution_count": 224,
   "metadata": {
    "collapsed": true
   },
   "outputs": [],
   "source": [
    "import numpy as np\n",
    "import matplotlib.pyplot as plt\n",
    "import scipy.optimize as opt"
   ]
  },
  {
   "cell_type": "code",
   "execution_count": 225,
   "metadata": {
    "collapsed": true
   },
   "outputs": [],
   "source": [
    "theta = 2.5\n",
    "delta = 0.7\n",
    "rho = 0.2"
   ]
  },
  {
   "cell_type": "code",
   "execution_count": 226,
   "metadata": {
    "collapsed": false
   },
   "outputs": [],
   "source": [
    "def implicit_h(x, n, rho):\n",
    "    return (1 / (x + rho * n)) + (1 / (x + (n / rho))) - 2 "
   ]
  },
  {
   "cell_type": "code",
   "execution_count": 227,
   "metadata": {
    "collapsed": false
   },
   "outputs": [],
   "source": [
    "def root_finder(function, low_b, upp_b, n, rho):\n",
    "    return opt.brentq(function, low_b, upp_b, args = (n, rho))"
   ]
  },
  {
   "cell_type": "code",
   "execution_count": 228,
   "metadata": {
    "collapsed": false
   },
   "outputs": [],
   "source": [
    "def system_motion(n1, n2, delta, theta, rho):\n",
    "    s = 0.5\n",
    "    h1 = root_finder(implicit_h, 0, 1, n1, rho)\n",
    "    h2 = root_finder(implicit_h, 0, 1, n2, rho)\n",
    "    \n",
    "    if n1 <= s and n1 <= s:\n",
    "        n1_new = delta * ((theta / 2) + (1 - theta) * n1)\n",
    "        n2_new = delta * ((theta / 2) + (1 - theta) * n2)\n",
    "        return n1_new, n2_new\n",
    "    \n",
    "    elif n1 >= h2 and n2 >= h1:\n",
    "        n1_new = delta * n1\n",
    "        n2_new = delta * n2\n",
    "        return n1_new, n2_new\n",
    "        \n",
    "    elif n1 >= s and n2 <= h1:\n",
    "        n1_new = delta * n1\n",
    "        n2_new = delta * (theta * h1 + (1 - theta) * n2)\n",
    "        return n1_new, n2_new\n",
    "    \n",
    "    elif n1 <= h2 and n2 >= s:\n",
    "        n1_new = delta * (theta * h2 + (1 - theta) * n1)\n",
    "        n2_new = delta * n2\n",
    "        return n1_new, n2_new"
   ]
  },
  {
   "cell_type": "code",
   "execution_count": 229,
   "metadata": {
    "collapsed": false
   },
   "outputs": [],
   "source": [
    "def sample_generator(init_n1, init_n2, size, delta, theta, rho):\n",
    "    n1_obs = np.zeros((size))\n",
    "    n2_obs = np.zeros((size))\n",
    "    n1_obs[0] = init_n1\n",
    "    n2_obs[0] = init_n2\n",
    "    \n",
    "    for t in range(size-1):\n",
    "        n1_obs[t+1], n2_obs[t+1] = system_motion(n1_obs[t], n2_obs[t], delta, theta, rho)      \n",
    "    \n",
    "    \n",
    "    return n1_obs, n2_obs"
   ]
  },
  {
   "cell_type": "code",
   "execution_count": null,
   "metadata": {
    "collapsed": true
   },
   "outputs": [],
   "source": []
  }
 ],
 "metadata": {
  "kernelspec": {
   "display_name": "Python 3",
   "language": "python",
   "name": "python3"
  },
  "language_info": {
   "codemirror_mode": {
    "name": "ipython",
    "version": 3
   },
   "file_extension": ".py",
   "mimetype": "text/x-python",
   "name": "python",
   "nbconvert_exporter": "python",
   "pygments_lexer": "ipython3",
   "version": "3.5.1"
  }
 },
 "nbformat": 4,
 "nbformat_minor": 0
}
